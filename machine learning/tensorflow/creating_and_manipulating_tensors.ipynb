{
 "cells": [
  {
   "cell_type": "markdown",
   "metadata": {},
   "source": [
    "# Creating and Manipulating Tensors\n",
    "\n",
    "**Learning Objectives:**\n",
    "- Initialize and assing TensorFlow `Variable`s\n",
    "- Create and manipulate tensors\n",
    "- Refresh your memory about addition and multiplication in linear algebra (consult an introduction to matrix [addition](https://en.wikipedia.org/wiki/Matrix_addition) and [multiplication](https://en.wikipedia.org/wiki/Matrix_multiplication) if these topics are new to you)\n",
    "- Familiarize yourself with basic TensorFlow math and array operations"
   ]
  },
  {
   "cell_type": "code",
   "execution_count": 1,
   "metadata": {},
   "outputs": [],
   "source": [
    "import tensorflow as tf"
   ]
  },
  {
   "cell_type": "markdown",
   "metadata": {},
   "source": [
    "## Vector Addition\n",
    "\n",
    "You can perform many typical mathematical operations on tensors ([TF API](https://www.tensorflow.org/api_guides/python/math_ops)). The following code\n",
    "creates and manipulates two vectors (1-D tensors), each having exactly six elements:"
   ]
  },
  {
   "cell_type": "code",
   "execution_count": 2,
   "metadata": {},
   "outputs": [
    {
     "name": "stdout",
     "output_type": "stream",
     "text": [
      "[ 3  4  6  8 12 14]\n"
     ]
    }
   ],
   "source": [
    "with tf.Graph().as_default():\n",
    "    # Create a six-element vector (1-D tensor).\n",
    "    primes = tf.constant([2, 3, 5, 7, 11, 13], dtype=tf.int32)\n",
    "    \n",
    "    # Create another six-element vector. Each element in the vector will be\n",
    "    # initialized to 1. The first argument is the shape of the tensor (more on shapes below).\n",
    "    ones = tf.ones([6], dtype=tf.int32)\n",
    "    \n",
    "    # Add the two vectors. The resulting tensor is a six-element vector.\n",
    "    primes_plus_one = tf.add(primes, ones)\n",
    "    \n",
    "    # Create a session to run the default graph.\n",
    "    with tf.Session() as sess:\n",
    "        print(primes_plus_one.eval())\n",
    "        "
   ]
  },
  {
   "cell_type": "markdown",
   "metadata": {},
   "source": [
    "### Tensor Shapes\n",
    "\n",
    "Shapes are used to characterize the size and number of dimensions of a tensor. The shape of a tensor is expressed as `list`, with the `i`th element representing the size along dimension `i`. The length of the list then indicates the rank of the tensor (i.e., the number of dimensions).\n",
    "\n",
    "For more information, see the [TensorFlow documentation](https://www.tensorflow.org/programmers_guide/tensors#shape).\n",
    "\n",
    "A few basic examples:"
   ]
  },
  {
   "cell_type": "code",
   "execution_count": 3,
   "metadata": {
    "scrolled": true
   },
   "outputs": [
    {
     "name": "stdout",
     "output_type": "stream",
     "text": [
      "Scalar shape: () and the value:\n",
      " 0.0\n",
      "Vector shape: (3,) and the value:\n",
      " [0. 0. 0.]\n",
      "Matrix shape: (2, 3) and the value:\n",
      " [[0. 0. 0.]\n",
      " [0. 0. 0.]]\n"
     ]
    }
   ],
   "source": [
    "with tf.Graph().as_default():\n",
    "    # A scalar (0-D tensor).\n",
    "    scalar = tf.zeros([])\n",
    "    \n",
    "    # A vector with 3 elements.\n",
    "    vector = tf.zeros([3])\n",
    "    \n",
    "    # A matrix with 2 rows and 3 columns\n",
    "    matrix = tf.zeros([2, 3])\n",
    "    \n",
    "    with tf.Session() as sess:\n",
    "        print(\"Scalar shape: {0} and the value:\\n {1}\".format(scalar.get_shape(), scalar.eval()))\n",
    "        print(\"Vector shape: {0} and the value:\\n {1}\".format(vector.get_shape(), vector.eval()))\n",
    "        print(\"Matrix shape: {0} and the value:\\n {1}\".format(matrix.get_shape(), matrix.eval()))"
   ]
  },
  {
   "cell_type": "markdown",
   "metadata": {},
   "source": [
    "### Broadcasting\n",
    "\n",
    "In mathematics, you can only perform element-wise operations (e.g. *add* and *equals*) on tensors of the same shape. In TensorFlow, however, you may perform operations on tensors that would traditionally have been incompatible. TensorFlow supports **broadcasting** (a concept borrowed from numpy), where the smaller array in an element-wise operation is enlarged to have the same shape as the larger array. For example, via broadcasting:\n",
    "\n",
    "* If an operand requires a size `[6]` tensor, a size `[1]` or a size `[]` tensor can serve as an operand.\n",
    "* If an operation requires a size `[4, 6]` tensor, any of the following sizes can serve as an operand:\n",
    "  * `[1, 6]`\n",
    "  * `[6]`\n",
    "  * `[]`\n",
    "* If an operation requires a size `[3, 5, 6]` tensor, any of the following sizes can serve as an operand:\n",
    "\n",
    "  * `[1, 5, 6]`\n",
    "  * `[3, 1, 6]`\n",
    "  * `[3, 5, 1]`\n",
    "  * `[1, 1, 1]`\n",
    "  * `[5, 6]`\n",
    "  * `[1, 6]`\n",
    "  * `[6]`\n",
    "  * `[1]`\n",
    "  * `[]`\n",
    "  \n",
    "**NOTE:** When a tensor is broadcast, its entries are conceptually **copied**. (They are not actually copied for performance reasons. Broadcasting was invented as a performance optimization.)\n",
    "\n",
    "The full broadcasting ruleset is well described in the easy-to-read [numpy broadcasting documentation](http://docs.scipy.org/doc/numpy-1.10.1/user/basics.broadcasting.html).\n",
    "\n",
    "The following code performs the same tensor addition as before, but using broadcasting:"
   ]
  },
  {
   "cell_type": "code",
   "execution_count": 4,
   "metadata": {},
   "outputs": [
    {
     "name": "stdout",
     "output_type": "stream",
     "text": [
      "[ 3  4  6  8 12 14]\n"
     ]
    }
   ],
   "source": [
    "with tf.Graph().as_default():\n",
    "    # Create a six-element vector (1-D tensor).\n",
    "    primes = tf.constant([2, 3, 5, 7, 11, 13], dtype=tf.int32)\n",
    "\n",
    "    # Create a constant scalar with value 1.\n",
    "    ones = tf.constant(1, dtype=tf.int32)\n",
    "\n",
    "    # Add the two tensors. The resulting tensor is a six-element vector.\n",
    "    primes_plus_one = tf.add(primes, ones)\n",
    "    \n",
    "    with tf.Session() as sess:\n",
    "        print(primes_plus_one.eval())"
   ]
  },
  {
   "cell_type": "markdown",
   "metadata": {},
   "source": [
    "## Matrix Multiplication\n",
    "\n",
    "In linear algebra, when multiplying two matrices, the number of *columns* of the first matrix must\n",
    "equal the number of *rows* in the second matrix.\n",
    "\n",
    "- It is **_valid_** to multiply a `3x4` matrix by a `4x2` matrix. This will result in a `3x2` matrix.\n",
    "- It is **_invalid_** to multiply a `4x2` matrix by a `3x4` matrix."
   ]
  },
  {
   "cell_type": "code",
   "execution_count": 5,
   "metadata": {},
   "outputs": [
    {
     "name": "stdout",
     "output_type": "stream",
     "text": [
      "[[-10  55]\n",
      " [-14  11]\n",
      " [  9  -2]]\n"
     ]
    }
   ],
   "source": [
    "with tf.Graph().as_default():\n",
    "    # Create a matrix (2-d tensor) with 3 rows and 4 columns.\n",
    "    # | 5, 2, 4, 3 |\n",
    "    # | 5, 1, 6, -2 |\n",
    "    # | -1, 3, -1, -2 |\n",
    "    x = tf.constant([[5, 2, 4, 3], [5, 1, 6, -2], [-1, 3, -1, -2]], dtype=tf.int32)\n",
    "    \n",
    "    # Create a matrix with 4 rows and 2 columns.\n",
    "    # | -2, 3 |\n",
    "    # | 2, 6 |\n",
    "    # | -1, 1 |\n",
    "    # | 0, 8 |\n",
    "    y = tf.constant([[-2, 3], [2, 6], [-1, 1], [0, 8]], dtype=tf.int32)\n",
    "\n",
    "    # Multiply `x` by `y`. The resulting matrix will have 3 rows and 2 columns.\n",
    "    matrix_mul_result = tf.matmul(x, y)\n",
    "    \n",
    "    with tf.Session() as sess:\n",
    "        print(matrix_mul_result.eval())"
   ]
  },
  {
   "cell_type": "markdown",
   "metadata": {},
   "source": [
    "## Tensor Reshaping\n",
    "\n",
    "With tensor addition and matrix multiplication each imposing constraints\n",
    "on operands, TensorFlow programmers must frequently reshape tensors. \n",
    "\n",
    "You can use the `tf.reshape` method to reshape a tensor. \n",
    "For example, you can reshape a 8x2 tensor into a 2x8 tensor or a 4x4 tensor:"
   ]
  },
  {
   "cell_type": "code",
   "execution_count": 6,
   "metadata": {},
   "outputs": [
    {
     "name": "stdout",
     "output_type": "stream",
     "text": [
      "Original matrix (8x2):\n",
      "[[ 1  2]\n",
      " [ 3  4]\n",
      " [ 5  6]\n",
      " [ 7  8]\n",
      " [ 9 10]\n",
      " [11 12]\n",
      " [13 14]\n",
      " [15 16]]\n",
      "Reshaped matrix (2x8):\n",
      "[[ 1  2  3  4  5  6  7  8]\n",
      " [ 9 10 11 12 13 14 15 16]]\n",
      "Reshaped matrix (4x4):\n",
      "[[ 1  2  3  4]\n",
      " [ 5  6  7  8]\n",
      " [ 9 10 11 12]\n",
      " [13 14 15 16]]\n"
     ]
    }
   ],
   "source": [
    "with tf.Graph().as_default():\n",
    "    # Create an 8x2 matrix (2-D tensor).\n",
    "    x = tf.constant([[1,2], [3,4], [5,6], [7,8], [9,10], [11,12], [13, 14], [15,16]], dtype=tf.int32)    \n",
    "    # Reshape the 8x2 matrix to 2x8 matrix.\n",
    "    x_reshaped_2x8 = tf.reshape(x, [2, 8])\n",
    "    \n",
    "    # Reshape the 8x2 matrix to 4x4 matrix.\n",
    "    x_reshaped_4x4 = tf.reshape(x, [4, 4])\n",
    "    \n",
    "    with tf.Session() as sess:\n",
    "        print(\"Original matrix (8x2):\\n{0}\".format(x.eval()))\n",
    "        print(\"Reshaped matrix (2x8):\\n{0}\".format(x_reshaped_2x8.eval()))\n",
    "        print(\"Reshaped matrix (4x4):\\n{0}\".format(x_reshaped_4x4.eval()))"
   ]
  },
  {
   "cell_type": "markdown",
   "metadata": {},
   "source": [
    "- You can also use `tf.reshape` to change the number of dimensions (the \"rank\") of the tensor.\n",
    "For example, you could reshape that 8x2 tensor into a 3-D 2x2x4 tensor or a 1-D 16-element tensor."
   ]
  },
  {
   "cell_type": "code",
   "execution_count": 7,
   "metadata": {},
   "outputs": [
    {
     "name": "stdout",
     "output_type": "stream",
     "text": [
      "Original matrix (8x2):\n",
      "[[ 1  2]\n",
      " [ 3  4]\n",
      " [ 5  6]\n",
      " [ 7  8]\n",
      " [ 9 10]\n",
      " [11 12]\n",
      " [13 14]\n",
      " [15 16]]\n",
      "Reshaped 3-D tensor (2x2x4):\n",
      "[[[ 1  2  3  4]\n",
      "  [ 5  6  7  8]]\n",
      "\n",
      " [[ 9 10 11 12]\n",
      "  [13 14 15 16]]]\n",
      "Reshaped 1-D vector (16):\n",
      "[ 1  2  3  4  5  6  7  8  9 10 11 12 13 14 15 16]\n"
     ]
    }
   ],
   "source": [
    "with tf.Graph().as_default():\n",
    "    # Create an 8x2 matrix (2-D tensor).\n",
    "    x = tf.constant([[1,2], [3,4], [5,6], [7,8], [9,10], [11,12], [13, 14], [15,16]], dtype=tf.int32)\n",
    "    \n",
    "    # Reshape the 8x2 matrix to 2x2x4 (3-D tensor).\n",
    "    x_reshaped_2x2x4 = tf.reshape(x, [2, 2, 4])\n",
    "    \n",
    "    # Reshape the 8x2 matrix to 16-element (1-D tensor).\n",
    "    x_reshaped_16 = tf.reshape(x, [16])\n",
    "    \n",
    "    with tf.Session() as sess:\n",
    "        print(\"Original matrix (8x2):\\n{0}\".format(x.eval()))\n",
    "        print(\"Reshaped 3-D tensor (2x2x4):\\n{0}\".format(x_reshaped_2x2x4.eval()))\n",
    "        print(\"Reshaped 1-D vector (16):\\n{0}\".format(x_reshaped_16.eval()))\n",
    "    "
   ]
  },
  {
   "cell_type": "markdown",
   "metadata": {},
   "source": [
    "### Exercise #1: Reshape two tensors in order to multiply them.\n",
    "\n",
    "The following two vectors are incompatible for matrix multiplication:\n",
    "\n",
    "  *  `a = tf.constant([5, 3, 2, 7, 1, 4])`\n",
    "  *  `b = tf.constant([4, 6, 3])`\n",
    "\n",
    "Reshape these vectors into compatible operands for matrix multiplication.\n",
    "Then, invoke a matrix multiplication operation on the reshaped tensors."
   ]
  },
  {
   "cell_type": "code",
   "execution_count": 8,
   "metadata": {},
   "outputs": [
    {
     "name": "stdout",
     "output_type": "stream",
     "text": [
      "Multiplication of a and b:\n",
      "[[44]\n",
      " [46]]\n"
     ]
    }
   ],
   "source": [
    "with tf.Graph().as_default():\n",
    "    # initialize given matrices\n",
    "    a = tf.constant([5, 3, 2, 7, 1, 4])\n",
    "    b = tf.constant([4, 6, 3])\n",
    "    \n",
    "    # reshape a to 2x3 and b to 3x1\n",
    "    reshaped_a = tf.reshape(a, [2, 3])\n",
    "    reshaped_b = tf.reshape(b, [3, 1])\n",
    "    \n",
    "    # result of multiplication of 2x3 and 3x1 matrices will be a 2x1 matrix\n",
    "    mul_a_b = tf.matmul(reshaped_a, reshaped_b)\n",
    "    \n",
    "    with tf.Session() as sess:\n",
    "        print(\"Multiplication of a and b:\\n{0}\".format(mul_a_b.eval()))"
   ]
  },
  {
   "cell_type": "markdown",
   "metadata": {},
   "source": [
    "## Variables, Initialization and Assignment\n",
    "\n",
    "So far, all the operations we performed were on static values (`tf.constant`); calling `eval()` always returned the same result. TensorFlow allows you to define `Variable` objects, whose values can be changed. \n",
    "\n",
    "When creating a variable, you can set an initial value explicitly, or you can use an initializer (like a distribution):"
   ]
  },
  {
   "cell_type": "code",
   "execution_count": 9,
   "metadata": {},
   "outputs": [],
   "source": [
    "g = tf.Graph()\n",
    "with g.as_default():\n",
    "    # Create a variable with the initial value of 3\n",
    "    v = tf.Variable([3])\n",
    "    \n",
    "    # Create a variable of shape [1], with a random initial value,\n",
    "    # sampled from a normal distribution with mean 1 and standard deviation 0.35.\n",
    "    w = tf.Variable(tf.random_normal([1], mean=1, stddev=0.35))"
   ]
  },
  {
   "cell_type": "markdown",
   "metadata": {},
   "source": [
    "- One peculiarity of TensorFlow is that **variable initialization is not automatic**. For example, the following block will cause an error:"
   ]
  },
  {
   "cell_type": "code",
   "execution_count": 10,
   "metadata": {},
   "outputs": [
    {
     "name": "stdout",
     "output_type": "stream",
     "text": [
      "Caught expected error: Attempting to use uninitialized value Variable\n",
      "\t [[Node: _retval_Variable_0_0 = _Retval[T=DT_INT32, index=0, _device=\"/job:localhost/replica:0/task:0/device:CPU:0\"](Variable)]]\n"
     ]
    }
   ],
   "source": [
    "with g.as_default():\n",
    "    with tf.Session() as sess:\n",
    "        try:\n",
    "            v.eval()\n",
    "        except tf.errors.FailedPreconditionError as e:\n",
    "            print(\"Caught expected error: {0}\".format(e))"
   ]
  },
  {
   "cell_type": "markdown",
   "metadata": {},
   "source": [
    "- The easiest way to initialize a variable is to call `global_variables_initializer`. Note the use of `Session.run()`, which is roughly equivalent to `eval()`."
   ]
  },
  {
   "cell_type": "code",
   "execution_count": 11,
   "metadata": {},
   "outputs": [
    {
     "name": "stdout",
     "output_type": "stream",
     "text": [
      "[3]\n",
      "[1.1409308]\n"
     ]
    }
   ],
   "source": [
    "with g.as_default():\n",
    "    with tf.Session() as sess:\n",
    "        initialization = tf.global_variables_initializer()\n",
    "        sess.run(initialization)\n",
    "        # Now, variables can be accessed normally, and have values assigned to them.\n",
    "        print(v.eval())\n",
    "        print(w.eval())"
   ]
  },
  {
   "cell_type": "markdown",
   "metadata": {},
   "source": [
    "- Once initialized, variables will maintain their value within the same session (however, when starting a new session, you will need to re-initialize them):"
   ]
  },
  {
   "cell_type": "code",
   "execution_count": 12,
   "metadata": {},
   "outputs": [
    {
     "name": "stdout",
     "output_type": "stream",
     "text": [
      "[0.3052618]\n",
      "[0.3052618]\n",
      "[0.3052618]\n"
     ]
    }
   ],
   "source": [
    "with g.as_default():\n",
    "    with tf.Session() as sess:\n",
    "        sess.run(tf.global_variables_initializer())\n",
    "        # These three prints will print the same value.\n",
    "        print(w.eval())\n",
    "        print(w.eval())\n",
    "        print(w.eval())"
   ]
  },
  {
   "cell_type": "markdown",
   "metadata": {},
   "source": [
    "- To change the value of a variable, use the `assign` op. Note that simply creating the `assign` op will not have any effect. As with initialization, you have to `run` the assignment op to update the variable value:"
   ]
  },
  {
   "cell_type": "code",
   "execution_count": 13,
   "metadata": {},
   "outputs": [
    {
     "name": "stdout",
     "output_type": "stream",
     "text": [
      "[3]\n",
      "[3]\n",
      "[7]\n"
     ]
    }
   ],
   "source": [
    "with g.as_default():\n",
    "    with tf.Session() as sess:\n",
    "        sess.run(tf.global_variables_initializer())\n",
    "        \n",
    "        # Print the current value of v\n",
    "        print(v.eval())\n",
    "        \n",
    "        assignment = tf.assign(v, [7])\n",
    "        # The variable has not changed yet!\n",
    "        print(v.eval())\n",
    "        \n",
    "        # Execute the assignment op.\n",
    "        sess.run(assignment)\n",
    "        # Now the variable is updated.\n",
    "        print(v.eval())"
   ]
  },
  {
   "cell_type": "markdown",
   "metadata": {},
   "source": [
    "### Exercise #2: Simulate 10 rolls of two dice.\n",
    "\n",
    "Create a dice simulation, which generates a `10x3` 2-D tensor in which:\n",
    "\n",
    "  * Columns `1` and `2` each hold one throw of one die.\n",
    "  * Column `3` holds the sum of Columns `1` and `2` on the same row.\n",
    "\n",
    "For example, the first row might have the following values:\n",
    "\n",
    "  * Column `1` holds `4`\n",
    "  * Column `2` holds `3`\n",
    "  * Column `3` holds `7`\n",
    "\n",
    "You'll need to explore the [TensorFlow documentation](https://www.tensorflow.org/api_guides/python/array_ops) to solve this task."
   ]
  },
  {
   "cell_type": "code",
   "execution_count": 14,
   "metadata": {},
   "outputs": [
    {
     "name": "stdout",
     "output_type": "stream",
     "text": [
      "[[2 5 7]\n",
      " [3 1 4]\n",
      " [4 1 5]\n",
      " [4 1 5]\n",
      " [1 6 7]\n",
      " [3 2 5]\n",
      " [2 5 7]\n",
      " [1 2 3]\n",
      " [6 2 8]\n",
      " [1 5 6]]\n"
     ]
    }
   ],
   "source": [
    "with tf.Graph().as_default():\n",
    "    # Creating a 10x2 dices matrix with min value of 1 and max value of 6\n",
    "    dices = tf.Variable(tf.random_uniform([10, 2], minval=1, maxval=7, dtype=tf.int32))\n",
    "    \n",
    "    # Using the row count of our matrix to count throws\n",
    "    throws = dices.get_shape()[0]\n",
    "\n",
    "    # Calculating the sum of rows in dices matrix\n",
    "    dices_sum = tf.reduce_sum(dices, 1)\n",
    "    \n",
    "    # Reshaping the sum matrix to 10x1 from 1x10 concat with dices matrix\n",
    "    dices_sum = tf.reshape(dices_sum, [10, 1])\n",
    "    \n",
    "    # Concat two matrices\n",
    "    dices = tf.concat([dices, dices_sum], 1)\n",
    "    \n",
    "    with tf.Session() as sess:\n",
    "        initialization = tf.global_variables_initializer()\n",
    "        sess.run(initialization)\n",
    "        print(dices.eval())"
   ]
  }
 ],
 "metadata": {
  "kernelspec": {
   "display_name": "Python 3",
   "language": "python",
   "name": "python3"
  },
  "language_info": {
   "codemirror_mode": {
    "name": "ipython",
    "version": 3
   },
   "file_extension": ".py",
   "mimetype": "text/x-python",
   "name": "python",
   "nbconvert_exporter": "python",
   "pygments_lexer": "ipython3",
   "version": "3.6.4"
  }
 },
 "nbformat": 4,
 "nbformat_minor": 2
}
